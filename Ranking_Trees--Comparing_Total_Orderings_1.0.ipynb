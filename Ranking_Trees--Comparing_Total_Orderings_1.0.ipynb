{
 "cells": [
  {
   "cell_type": "code",
   "execution_count": null,
   "metadata": {},
   "outputs": [],
   "source": [
    "# importing the libraries \n",
    "# make sure that tree_functions.py is in the same directory as this notebook\n",
    "\n",
    "from tree_functions_1 import *"
   ]
  },
  {
   "cell_type": "code",
   "execution_count": null,
   "metadata": {},
   "outputs": [],
   "source": [
    "# order of the largest trees considered\n",
    "\n",
    "N = 11"
   ]
  },
  {
   "cell_type": "code",
   "execution_count": null,
   "metadata": {},
   "outputs": [],
   "source": [
    "%matplotlib inline\n",
    "\n",
    "font = {'size': 12}\n",
    "\n",
    "plt.rc('font', **font)\n",
    "\n",
    "plt.rc('figure', figsize = (8.0, 7.0))"
   ]
  },
  {
   "cell_type": "code",
   "execution_count": null,
   "metadata": {
    "scrolled": false
   },
   "outputs": [],
   "source": [
    "savefig = False\n",
    "\n",
    "for n in range(7, N + 1):\n",
    "    \n",
    "    Tree_List = list(nx.nonisomorphic_trees(n))\n",
    "    \n",
    "    Tree_List_Degree = get_total_list_degree_based(Tree_List)\n",
    "    \n",
    "    for i in range(2, 6):\n",
    "        \n",
    "        Tree_List_Evaluation = get_total_list_evaluation_based(Tree_List, i, 1)\n",
    "        \n",
    "        correl = np.corrcoef(get_total_degree_based(Tree_List), [Tree_List_Evaluation[i][2] for i in range(len(Tree_List_Evaluation))])[0,1]\n",
    "\n",
    "        fig = sns.scatterplot(x = get_total_degree_based(Tree_List), \n",
    "                        y = [Tree_List_Evaluation[i][2] for i in range(len(Tree_List_Evaluation))], \n",
    "                        size = [get_leaf_number(Tree_List[i]) for i in range(len(Tree_List))], \n",
    "                        hue = [get_leaf_number(Tree_List[i]) for i in range(len(Tree_List))],\n",
    "                        palette = 'magma')\n",
    "        \n",
    "        plt.xlabel('Degree-based Ordering Index')\n",
    "        \n",
    "        plt.ylabel('Evaluation-based Ordering Index')\n",
    "\n",
    "        plt.title('Scatterplot of indices in the two total orderings when $n$ is {} \\nand $x$ is {}, where color and size represent leaf number \\nCorrelation = {}'.format(n, i, correl))\n",
    "        \n",
    "        plt.show()  \n",
    "        \n",
    "        if savefig == True:\n",
    "            \n",
    "            fig.figure.savefig('ranking_total_{}_x_{}.png'.format(n, i))"
   ]
  }
 ],
 "metadata": {
  "kernelspec": {
   "display_name": "Python 3 (ipykernel)",
   "language": "python",
   "name": "python3"
  },
  "language_info": {
   "codemirror_mode": {
    "name": "ipython",
    "version": 3
   },
   "file_extension": ".py",
   "mimetype": "text/x-python",
   "name": "python",
   "nbconvert_exporter": "python",
   "pygments_lexer": "ipython3",
   "version": "3.8.11"
  }
 },
 "nbformat": 4,
 "nbformat_minor": 4
}
