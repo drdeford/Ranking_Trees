{
 "cells": [
  {
   "cell_type": "code",
   "execution_count": null,
   "id": "4a6dceaf",
   "metadata": {},
   "outputs": [],
   "source": [
    "# importing the libraries \n",
    "# make sure that tree_functions.py is in the same directory as this notebook\n",
    "\n",
    "from tree_functions_1 import *"
   ]
  },
  {
   "cell_type": "code",
   "execution_count": null,
   "id": "04760b5d",
   "metadata": {},
   "outputs": [],
   "source": [
    "# the order of the trees \n",
    "\n",
    "N = 11"
   ]
  },
  {
   "cell_type": "markdown",
   "id": "24352e16",
   "metadata": {},
   "source": [
    "## Closeness Centrality"
   ]
  },
  {
   "cell_type": "markdown",
   "id": "e8d56b63",
   "metadata": {},
   "source": [
    "### Test"
   ]
  },
  {
   "cell_type": "code",
   "execution_count": null,
   "id": "3c6e9e5d",
   "metadata": {},
   "outputs": [],
   "source": [
    "# the semipath of order n is a tree obtained from a path of order\n",
    "# (n - 1) and linking a new vertex to a vertex in the center of\n",
    "# this path\n",
    "\n",
    "path_closeness = []\n",
    "\n",
    "semipath_closeness = []\n",
    "\n",
    "for n in range(7, N + 1):\n",
    "\n",
    "    Tree_list = list(nx.nonisomorphic_trees(n))\n",
    "\n",
    "    if n % 2 == 0:\n",
    "        \n",
    "        semi_path = nx.path_graph(n-1)\n",
    "    \n",
    "        semi_path.add_edge(n//2 - 1, 'a')\n",
    "        \n",
    "        path_closeness.append(get_path_closeness_even_check(n) - get_closeness_centrality_check(Tree_list[0]))\n",
    "        \n",
    "        semipath_closeness.append(get_semipath_closeness_even_check(n) - get_closeness_centrality_check(semi_path))\n",
    "        \n",
    "    else:\n",
    "        \n",
    "        semi_path = nx.path_graph(n - 1)\n",
    "    \n",
    "        semi_path.add_edge(n//2, 'a')\n",
    "        \n",
    "        path_closeness.append(get_path_closeness_odd_check(n) - get_closeness_centrality_check(Tree_list[0]))\n",
    "        \n",
    "        semipath_closeness.append(get_semipath_closeness_odd_check(n) - get_closeness_centrality_check(semi_path))   "
   ]
  },
  {
   "cell_type": "code",
   "execution_count": null,
   "id": "93ccf7f2",
   "metadata": {},
   "outputs": [],
   "source": [
    "path_closeness"
   ]
  },
  {
   "cell_type": "code",
   "execution_count": null,
   "id": "ad32064b",
   "metadata": {
    "scrolled": true
   },
   "outputs": [],
   "source": [
    "semipath_closeness"
   ]
  },
  {
   "cell_type": "code",
   "execution_count": null,
   "id": "cea16c54",
   "metadata": {},
   "outputs": [],
   "source": [
    "# the semistar of order n is a tree obtained from a star of order\n",
    "# (n - 1) and linking a new vertex to one of its leaves\n",
    "\n",
    "star_closeness = []\n",
    "\n",
    "semistar_closeness = []\n",
    "\n",
    "for n in range(7, N + 1):\n",
    "\n",
    "    Tree_list = list(nx.nonisomorphic_trees(n))\n",
    "\n",
    "    star_closeness.append(get_star_closeness_check(n) - get_closeness_centrality_check(Tree_list[-1]))\n",
    "        \n",
    "    semistar_closeness.append(get_semistar_closeness_check(n) - get_closeness_centrality_check(Tree_list[-2])) "
   ]
  },
  {
   "cell_type": "code",
   "execution_count": null,
   "id": "7c04803e",
   "metadata": {},
   "outputs": [],
   "source": [
    "star_closeness"
   ]
  },
  {
   "cell_type": "code",
   "execution_count": null,
   "id": "344f84ed",
   "metadata": {},
   "outputs": [],
   "source": [
    "semistar_closeness"
   ]
  },
  {
   "cell_type": "markdown",
   "id": "47eeb36c",
   "metadata": {},
   "source": [
    "### Lines"
   ]
  },
  {
   "cell_type": "code",
   "execution_count": null,
   "id": "dc6716ef",
   "metadata": {},
   "outputs": [],
   "source": [
    "semipath_closeness_line = []\n",
    "\n",
    "for n in range(7, N + 1):\n",
    "    \n",
    "    if n % 2 == 0:\n",
    "        \n",
    "        slope = ((get_path_closeness_even_check(n) - get_semipath_closeness_even_check(n))/get_star_closeness_check(n))/(get_path_stirling_check(n) - get_semipath_stirling_check(n))\n",
    "        \n",
    "        intercept = get_semipath_closeness_even_check(n)/get_star_closeness_check(n) - slope*get_semipath_stirling_check(n)\n",
    "    \n",
    "        semipath_closeness_line.append([intercept, slope]) \n",
    "        \n",
    "    else:\n",
    "        \n",
    "        slope = ((get_path_closeness_odd_check(n) - get_semipath_closeness_odd_check(n))/get_star_closeness_check(n))/(get_path_stirling_check(n) - get_semipath_stirling_check(n))\n",
    "        \n",
    "        intercept = get_semipath_closeness_odd_check(n)/get_star_closeness_check(n) - slope*get_semipath_stirling_check(n)\n",
    "    \n",
    "        semipath_closeness_line.append([intercept, slope]) "
   ]
  },
  {
   "cell_type": "code",
   "execution_count": null,
   "id": "a67bad00",
   "metadata": {},
   "outputs": [],
   "source": [
    "semipath_closeness_line"
   ]
  },
  {
   "cell_type": "code",
   "execution_count": null,
   "id": "f0af8c28",
   "metadata": {},
   "outputs": [],
   "source": [
    "semistar_closeness_line = []\n",
    "\n",
    "for n in range(7, N + 1):\n",
    "\n",
    "    slope = ((get_star_closeness_check(n) - get_semistar_closeness_check(n))/get_star_closeness_check(n))/(get_star_stirling_check(n) - get_semistar_stirling_check(n))\n",
    "        \n",
    "    intercept = get_semistar_closeness_check(n)/get_star_closeness_check(n) - slope*get_semistar_stirling_check(n)\n",
    "    \n",
    "    semistar_closeness_line.append([intercept, slope]) "
   ]
  },
  {
   "cell_type": "code",
   "execution_count": null,
   "id": "21516591",
   "metadata": {},
   "outputs": [],
   "source": [
    "semistar_closeness_line"
   ]
  },
  {
   "cell_type": "code",
   "execution_count": null,
   "id": "71083dcc",
   "metadata": {},
   "outputs": [],
   "source": [
    "for n in range(7, N + 1):\n",
    "    \n",
    "    print((-7*n**3 + 28*n**2 - 51*n + 36)/(12*(n - 2)**2*(n - 3)))"
   ]
  },
  {
   "cell_type": "markdown",
   "id": "28f11326",
   "metadata": {},
   "source": [
    "### Approximations"
   ]
  },
  {
   "cell_type": "code",
   "execution_count": null,
   "id": "a669aa57",
   "metadata": {},
   "outputs": [],
   "source": [
    "path_closeness_approx = []\n",
    "\n",
    "for n in range(7, N + 1):\n",
    "    \n",
    "    if n % 2 == 0:\n",
    "        \n",
    "        path_closeness_approx.append(get_path_closeness_even_check(n)/get_star_closeness_check(n) - (8 - 2*math.pi)/n)\n",
    "        \n",
    "    else:\n",
    "        \n",
    "        path_closeness_approx.append(get_path_closeness_odd_check(n)/get_star_closeness_check(n) - (8 - 2*math.pi)/n)"
   ]
  },
  {
   "cell_type": "code",
   "execution_count": null,
   "id": "928098b8",
   "metadata": {},
   "outputs": [],
   "source": [
    "path_closeness_approx"
   ]
  },
  {
   "cell_type": "code",
   "execution_count": null,
   "id": "01785b19",
   "metadata": {},
   "outputs": [],
   "source": [
    "semipath_closeness_approx = []\n",
    "\n",
    "for n in range(7, N + 1):\n",
    "    \n",
    "    if n % 2 == 0:\n",
    "        \n",
    "        semipath_closeness_approx.append(get_semipath_closeness_even_check(n)/get_star_closeness_check(n) - (8 - 2*math.pi)/n)\n",
    "        \n",
    "    else:\n",
    "        \n",
    "        semipath_closeness_approx.append(get_semipath_closeness_odd_check(n)/get_star_closeness_check(n) - (8 - 2*math.pi)/n)"
   ]
  },
  {
   "cell_type": "code",
   "execution_count": null,
   "id": "6b33d3ce",
   "metadata": {},
   "outputs": [],
   "source": [
    "semipath_closeness_approx"
   ]
  },
  {
   "cell_type": "markdown",
   "id": "469f18e2",
   "metadata": {},
   "source": [
    "## Betweenness Centrality"
   ]
  },
  {
   "cell_type": "markdown",
   "id": "888b3347",
   "metadata": {},
   "source": [
    "### Test"
   ]
  },
  {
   "cell_type": "code",
   "execution_count": null,
   "id": "64255d55",
   "metadata": {},
   "outputs": [],
   "source": [
    "path_betweenness = []\n",
    "\n",
    "semipath_betweenness = []\n",
    "\n",
    "for n in range(7, 18):\n",
    "\n",
    "    Tree_list = list(nx.nonisomorphic_trees(n))\n",
    "\n",
    "    if n % 2 == 0:\n",
    "                    \n",
    "        semi_path = nx.path_graph(n-1)\n",
    "    \n",
    "        semi_path.add_edge(n//2 - 1, 'a')\n",
    "        \n",
    "        path_betweenness.append(get_path_betweenness_even_check(n) - get_betweenness_centrality_check(Tree_list[0]))\n",
    "        \n",
    "        semipath_betweenness.append(get_semipath_betweenness_even_check(n) - get_betweenness_centrality_check(semi_path))\n",
    "        \n",
    "    else:\n",
    "        \n",
    "        semi_path = nx.path_graph(n-1)\n",
    "    \n",
    "        semi_path.add_edge(n//2, 'a')\n",
    "        \n",
    "        path_betweenness.append(get_path_betweenness_odd_check(n) - get_betweenness_centrality_check(Tree_list[0]))\n",
    "        \n",
    "        semipath_betweenness.append(get_semipath_betweenness_odd_check(n) - get_betweenness_centrality_check(semi_path)) "
   ]
  },
  {
   "cell_type": "code",
   "execution_count": null,
   "id": "7f663728",
   "metadata": {},
   "outputs": [],
   "source": [
    "path_betweenness"
   ]
  },
  {
   "cell_type": "code",
   "execution_count": null,
   "id": "638e5669",
   "metadata": {},
   "outputs": [],
   "source": [
    "semipath_betweenness"
   ]
  },
  {
   "cell_type": "code",
   "execution_count": null,
   "id": "fc4f4e87",
   "metadata": {},
   "outputs": [],
   "source": [
    "star_betweenness = []\n",
    "\n",
    "semistar_betweenness = []\n",
    "\n",
    "for n in range(7, 18):\n",
    "\n",
    "    Tree_list = list(nx.nonisomorphic_trees(n))\n",
    "\n",
    "    star_betweenness.append(get_star_betweenness_check(n) - get_betweenness_centrality_check(Tree_list[-1]))\n",
    "        \n",
    "    semistar_betweenness.append(get_semistar_betweenness_check(n) - get_betweenness_centrality_check(Tree_list[-2])) "
   ]
  },
  {
   "cell_type": "code",
   "execution_count": null,
   "id": "bdca5eb5",
   "metadata": {},
   "outputs": [],
   "source": [
    "star_betweenness"
   ]
  },
  {
   "cell_type": "code",
   "execution_count": null,
   "id": "a788cb1b",
   "metadata": {},
   "outputs": [],
   "source": [
    "semistar_betweenness"
   ]
  },
  {
   "cell_type": "markdown",
   "id": "af6d2180",
   "metadata": {},
   "source": [
    "### Lines"
   ]
  },
  {
   "cell_type": "code",
   "execution_count": null,
   "id": "fda746b2",
   "metadata": {},
   "outputs": [],
   "source": [
    "semipath_betweenness_line = []\n",
    "\n",
    "for n in range(7, N + 1):\n",
    "    \n",
    "    if n % 2 == 0:\n",
    "        \n",
    "        slope = ((get_path_betweenness_even_check(n) - get_semipath_betweenness_even_check(n))/get_star_betweenness_check(n))/(get_path_stirling_check(n) - get_semipath_stirling_check(n))\n",
    "        \n",
    "        intercept = get_semipath_betweenness_even_check(n)/get_star_betweenness_check(n) - slope*get_semipath_stirling_check(n)\n",
    "    \n",
    "        semipath_betweenness_line.append([intercept, slope]) \n",
    "        \n",
    "    else:\n",
    "        \n",
    "        slope = ((get_path_betweenness_odd_check(n) - get_semipath_betweenness_odd_check(n))/get_star_betweenness_check(n))/(get_path_stirling_check(n) - get_semipath_stirling_check(n))\n",
    "        \n",
    "        intercept = get_semipath_betweenness_odd_check(n)/get_star_betweenness_check(n) - slope*get_semipath_stirling_check(n)\n",
    "    \n",
    "        semipath_betweenness_line.append([intercept, slope]) "
   ]
  },
  {
   "cell_type": "code",
   "execution_count": null,
   "id": "cba3b2a3",
   "metadata": {},
   "outputs": [],
   "source": [
    "semipath_betweenness_line"
   ]
  },
  {
   "cell_type": "code",
   "execution_count": null,
   "id": "31aba654",
   "metadata": {},
   "outputs": [],
   "source": [
    "for n in range(7, N + 1):\n",
    "    \n",
    "    if n % 2 == 0:\n",
    "        \n",
    "        print(-(3*n - 2)*n/(4*(n - 1)))\n",
    "        \n",
    "    else:\n",
    "        \n",
    "        print(-(3*n - 1)*(n - 3)*n/(4*(n - 1)*(n - 2)))"
   ]
  },
  {
   "cell_type": "code",
   "execution_count": null,
   "id": "078f5fa8",
   "metadata": {},
   "outputs": [],
   "source": [
    "for n in range(7, N + 1):\n",
    "    \n",
    "    if n % 2 == 0:\n",
    "        \n",
    "        print((9*n**3 - 49*n**2 + 88*n - 36)/(12*(n - 1)**2))\n",
    "        \n",
    "    else:\n",
    "        \n",
    "        print((9*n**4 - 73*n**3 + 213*n**2 - 227*n + 54)/(12*(n - 1)**2*(n - 2)))"
   ]
  },
  {
   "cell_type": "code",
   "execution_count": null,
   "id": "bc128229",
   "metadata": {},
   "outputs": [],
   "source": [
    "semistar_betweenness_line = []\n",
    "\n",
    "for n in range(7, N + 1):\n",
    "\n",
    "    slope = ((get_star_betweenness_check(n) - get_semistar_betweenness_check(n))/get_star_betweenness_check(n))/(get_star_stirling_check(n) - get_semistar_stirling_check(n))\n",
    "        \n",
    "    intercept = get_semistar_betweenness_check(n)/get_star_betweenness_check(n) - slope*get_semistar_stirling_check(n)\n",
    "    \n",
    "    semistar_betweenness_line.append([intercept, slope]) "
   ]
  },
  {
   "cell_type": "code",
   "execution_count": null,
   "id": "9c01d347",
   "metadata": {},
   "outputs": [],
   "source": [
    "semistar_betweenness_line"
   ]
  },
  {
   "cell_type": "code",
   "execution_count": null,
   "id": "ac29889b",
   "metadata": {},
   "outputs": [],
   "source": [
    "for n in range(7, N + 1):\n",
    "    \n",
    "    print(-(2*n - 3)*n/((n - 1)*(n - 2)*(n - 3)))"
   ]
  },
  {
   "cell_type": "markdown",
   "id": "dd6ddd90",
   "metadata": {},
   "source": [
    "### Approximations"
   ]
  },
  {
   "cell_type": "code",
   "execution_count": null,
   "id": "6c413e9d",
   "metadata": {},
   "outputs": [],
   "source": [
    "path_betweenness_approx = []\n",
    "\n",
    "for n in range(7, N + 1):\n",
    "    \n",
    "    if n % 2 == 0:\n",
    "        \n",
    "        path_betweenness_approx.append(get_path_betweenness_even_check(n)/get_star_betweenness_check(n) - 1/6)\n",
    "        \n",
    "    else:\n",
    "        \n",
    "        path_betweenness_approx.append(get_path_betweenness_odd_check(n)/get_star_betweenness_check(n) - 1/6)"
   ]
  },
  {
   "cell_type": "code",
   "execution_count": null,
   "id": "fcadfc1e",
   "metadata": {},
   "outputs": [],
   "source": [
    "path_betweenness_approx"
   ]
  },
  {
   "cell_type": "code",
   "execution_count": null,
   "id": "219cc776",
   "metadata": {},
   "outputs": [],
   "source": [
    "semipath_betweenness_approx = []\n",
    "\n",
    "for n in range(7, N + 1):\n",
    "    \n",
    "    if n % 2 == 0:\n",
    "        \n",
    "        semipath_betweenness_approx.append(get_semipath_betweenness_even_check(n)/get_star_betweenness_check(n) - 1/6)\n",
    "        \n",
    "    else:\n",
    "        \n",
    "        semipath_betweenness_approx.append(get_semipath_betweenness_odd_check(n)/get_star_betweenness_check(n) - 1/6)"
   ]
  },
  {
   "cell_type": "code",
   "execution_count": null,
   "id": "7d9d3030",
   "metadata": {},
   "outputs": [],
   "source": [
    "semipath_betweenness_approx"
   ]
  }
 ],
 "metadata": {
  "kernelspec": {
   "display_name": "Python 3 (ipykernel)",
   "language": "python",
   "name": "python3"
  },
  "language_info": {
   "codemirror_mode": {
    "name": "ipython",
    "version": 3
   },
   "file_extension": ".py",
   "mimetype": "text/x-python",
   "name": "python",
   "nbconvert_exporter": "python",
   "pygments_lexer": "ipython3",
   "version": "3.8.11"
  }
 },
 "nbformat": 4,
 "nbformat_minor": 5
}
