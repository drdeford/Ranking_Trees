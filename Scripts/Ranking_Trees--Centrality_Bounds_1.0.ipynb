{
 "cells": [
  {
   "cell_type": "code",
   "execution_count": null,
   "id": "80d14261",
   "metadata": {},
   "outputs": [],
   "source": [
    "# importing the libraries \n",
    "# make sure that tree_functions.py is in the same directory as this notebook\n",
    "\n",
    "from tree_functions_1 import *"
   ]
  },
  {
   "cell_type": "markdown",
   "id": "549c5ea9",
   "metadata": {},
   "source": [
    "## Path-to-Star and Star-to-Path Poset Structures"
   ]
  },
  {
   "cell_type": "code",
   "execution_count": null,
   "id": "47c8be7b",
   "metadata": {},
   "outputs": [],
   "source": [
    "# the order of the trees\n",
    "\n",
    "n = 11"
   ]
  },
  {
   "cell_type": "code",
   "execution_count": null,
   "id": "303831aa",
   "metadata": {},
   "outputs": [],
   "source": [
    "Tree_List = list(nx.nonisomorphic_trees(n))"
   ]
  },
  {
   "cell_type": "code",
   "execution_count": null,
   "id": "7dc62688",
   "metadata": {},
   "outputs": [],
   "source": [
    "path_po, tree_paths_p = get_poset_path_to_star(n)\n",
    "\n",
    "star_po, tree_paths_s = get_poset_star_to_path(n)"
   ]
  },
  {
   "cell_type": "markdown",
   "id": "dd65138a",
   "metadata": {},
   "source": [
    "### Visualizing the Path-to-Star and Star-to-Path Poset Structures"
   ]
  },
  {
   "cell_type": "code",
   "execution_count": null,
   "id": "41fb3b34",
   "metadata": {},
   "outputs": [],
   "source": [
    "nx.draw_kamada_kawai(path_po, node_size = 20, \n",
    "                     node_color = [tree_paths_p[node] for node in path_po.nodes()], cmap = 'jet')"
   ]
  },
  {
   "cell_type": "code",
   "execution_count": null,
   "id": "f55628e9",
   "metadata": {},
   "outputs": [],
   "source": [
    "nx.draw_kamada_kawai(star_po, node_size = 20, \n",
    "                     node_color = [tree_paths_s[node] for node in star_po.nodes()], cmap = 'jet')"
   ]
  },
  {
   "cell_type": "markdown",
   "id": "85a3bb5b",
   "metadata": {},
   "source": [
    "### Visualizing the Connection between Closeness Centrality and the $(n −2)$nd Stirling Number of the First Kind"
   ]
  },
  {
   "cell_type": "code",
   "execution_count": null,
   "id": "03fbf906",
   "metadata": {},
   "outputs": [],
   "source": [
    "# closeness centrality\n",
    "\n",
    "pos_clo = np.array([[get_stirling_trees(Tree_List[x], n)[-3],\n",
    "           get_closeness_centrality(Tree_List[x])] for x in range(len(Tree_List))])"
   ]
  },
  {
   "cell_type": "code",
   "execution_count": null,
   "id": "3605909d",
   "metadata": {},
   "outputs": [],
   "source": [
    "plt.scatter(pos_clo[:, 0], pos_clo[:, 1], s = 5)\n",
    "\n",
    "plt.show()"
   ]
  },
  {
   "cell_type": "code",
   "execution_count": null,
   "id": "ab2d3980",
   "metadata": {},
   "outputs": [],
   "source": [
    "nx.draw(path_po, pos = pos_clo, node_size = 20, \n",
    "        node_color = [tree_paths_p[node] for node in path_po.nodes()], cmap = 'jet')"
   ]
  },
  {
   "cell_type": "code",
   "execution_count": null,
   "id": "66a91396",
   "metadata": {},
   "outputs": [],
   "source": [
    "nx.draw(star_po, pos = pos_clo, node_size = 20, \n",
    "        node_color = [tree_paths_s[node] for node in star_po.nodes()], cmap = 'jet')"
   ]
  },
  {
   "cell_type": "code",
   "execution_count": null,
   "id": "09073c29",
   "metadata": {},
   "outputs": [],
   "source": [
    "pos_clo_df = pd.DataFrame(pos_clo)\n",
    "\n",
    "pos_clo_df.columns = ['Stirling', 'Closeness']"
   ]
  },
  {
   "cell_type": "code",
   "execution_count": null,
   "id": "f6bdcde8",
   "metadata": {},
   "outputs": [],
   "source": [
    "pos_clo_agg = pos_clo_df.groupby(['Stirling']).mean().reset_index()\n",
    "\n",
    "pos_clo_agg.columns = ['Stirling', 'Mean']\n",
    "\n",
    "pos_clo_agg_1 = pos_clo_df.groupby(['Stirling']).max().reset_index()\n",
    "\n",
    "pos_clo_agg_1.columns = ['Stirling', 'Max']\n",
    "\n",
    "pos_clo_agg_2 = pos_clo_df.groupby(['Stirling']).min().reset_index()\n",
    "\n",
    "pos_clo_agg_2.columns = ['Stirling', 'Min']"
   ]
  },
  {
   "cell_type": "code",
   "execution_count": null,
   "id": "e0570ad9",
   "metadata": {},
   "outputs": [],
   "source": [
    "pos_clo_agg = pd.concat([pos_clo_agg, pos_clo_agg_1['Max'], pos_clo_agg_2['Min']], axis = 1)"
   ]
  },
  {
   "cell_type": "code",
   "execution_count": null,
   "id": "f68b1885",
   "metadata": {},
   "outputs": [],
   "source": [
    "plt.scatter(pos_clo[:, 1], pos_clo[:, 0], s = 5, color = 'k', alpha = 0.1)\n",
    "\n",
    "plt.scatter(pos_clo_agg['Mean'], pos_clo_agg['Stirling'], s = 10)\n",
    "\n",
    "plt.hlines(y = pos_clo_agg['Stirling'], xmin = pos_clo_agg['Min'], xmax = pos_clo_agg['Max'], colors = 'red')\n",
    "\n",
    "plt.show()"
   ]
  },
  {
   "cell_type": "markdown",
   "id": "0aaa14d2",
   "metadata": {},
   "source": [
    "### Visualizing the Connection between Betweenness Centrality and the $(n −2)$nd Stirling Number of the First Kind"
   ]
  },
  {
   "cell_type": "code",
   "execution_count": null,
   "id": "6fb10e18",
   "metadata": {},
   "outputs": [],
   "source": [
    "# betweeness centrality\n",
    "\n",
    "pos_bet = np.array([[get_stirling_trees(Tree_List[x], n)[-3],\n",
    "           get_betweenness_centrality(Tree_List[x])] for x in range(len(Tree_List))])"
   ]
  },
  {
   "cell_type": "code",
   "execution_count": null,
   "id": "a25f3eb1",
   "metadata": {},
   "outputs": [],
   "source": [
    "plt.scatter(pos_bet[:, 0], pos_bet[:, 1], s = 5)\n",
    "\n",
    "plt.show()"
   ]
  },
  {
   "cell_type": "code",
   "execution_count": null,
   "id": "92b686df",
   "metadata": {},
   "outputs": [],
   "source": [
    "nx.draw(path_po, pos = pos_bet, node_size = 20, \n",
    "        node_color = [tree_paths_p[node] for node in path_po.nodes()], cmap = 'jet')"
   ]
  },
  {
   "cell_type": "code",
   "execution_count": null,
   "id": "9fa7940d",
   "metadata": {},
   "outputs": [],
   "source": [
    "nx.draw(star_po, pos = pos_bet, node_size = 20, \n",
    "        node_color = [tree_paths_s[node] for node in star_po.nodes()], cmap = 'jet')"
   ]
  },
  {
   "cell_type": "code",
   "execution_count": null,
   "id": "fd87ead5",
   "metadata": {},
   "outputs": [],
   "source": [
    "pos_bet_df = pd.DataFrame(pos_bet)\n",
    "\n",
    "pos_bet_df.columns = ['Stirling', 'Betweenness']"
   ]
  },
  {
   "cell_type": "code",
   "execution_count": null,
   "id": "cf6a99e1",
   "metadata": {},
   "outputs": [],
   "source": [
    "pos_bet_agg = pos_bet_df.groupby(['Stirling']).mean().reset_index()\n",
    "\n",
    "pos_bet_agg.columns = ['Stirling', 'Mean']\n",
    "\n",
    "pos_bet_agg_1 = pos_bet_df.groupby(['Stirling']).max().reset_index()\n",
    "\n",
    "pos_bet_agg_1.columns = ['Stirling', 'Max']\n",
    "\n",
    "pos_bet_agg_2 = pos_bet_df.groupby(['Stirling']).min().reset_index()\n",
    "\n",
    "pos_bet_agg_2.columns = ['Stirling', 'Min']"
   ]
  },
  {
   "cell_type": "code",
   "execution_count": null,
   "id": "d8f528a3",
   "metadata": {},
   "outputs": [],
   "source": [
    "pos_bet_agg = pd.concat([pos_bet_agg, pos_bet_agg_1['Max'], pos_bet_agg_2['Min']], axis = 1)"
   ]
  },
  {
   "cell_type": "code",
   "execution_count": null,
   "id": "32ba00e8",
   "metadata": {},
   "outputs": [],
   "source": [
    "plt.scatter(pos_bet[:, 1], pos_bet[:, 0], s = 5, color = 'k', alpha = 0.1)\n",
    "\n",
    "plt.scatter(pos_bet_agg['Mean'], pos_bet_agg['Stirling'], s = 10)\n",
    "\n",
    "plt.hlines(y = pos_bet_agg['Stirling'], xmin = pos_bet_agg['Min'], xmax = pos_bet_agg['Max'], colors = 'red')\n",
    "\n",
    "plt.show()"
   ]
  }
 ],
 "metadata": {
  "kernelspec": {
   "display_name": "Python 3 (ipykernel)",
   "language": "python",
   "name": "python3"
  },
  "language_info": {
   "codemirror_mode": {
    "name": "ipython",
    "version": 3
   },
   "file_extension": ".py",
   "mimetype": "text/x-python",
   "name": "python",
   "nbconvert_exporter": "python",
   "pygments_lexer": "ipython3",
   "version": "3.8.16"
  }
 },
 "nbformat": 4,
 "nbformat_minor": 5
}
