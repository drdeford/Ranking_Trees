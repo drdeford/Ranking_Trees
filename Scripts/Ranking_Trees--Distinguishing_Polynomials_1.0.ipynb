{
 "cells": [
  {
   "cell_type": "code",
   "execution_count": null,
   "metadata": {},
   "outputs": [],
   "source": [
    "# importing the libraries \n",
    "# make sure that tree_functions.py is in the same directory as this notebook\n",
    "\n",
    "from tree_functions_1 import *"
   ]
  },
  {
   "cell_type": "code",
   "execution_count": null,
   "metadata": {},
   "outputs": [],
   "source": [
    "# the order of the trees \n",
    "\n",
    "n = 11"
   ]
  },
  {
   "cell_type": "markdown",
   "metadata": {},
   "source": [
    "### A Total Ordering on Trees of Order $n$ by Sorting the Distinguishing Polynmoials Based on the Degree $x$ in an Ascending Order and the Degree of $y$ in a Descending Order"
   ]
  },
  {
   "cell_type": "code",
   "execution_count": null,
   "metadata": {},
   "outputs": [],
   "source": [
    "Tree_List = list(nx.nonisomorphic_trees(n))\n",
    "\n",
    "total_tree_degree_list = get_total_list_degree_based(Tree_List)"
   ]
  },
  {
   "cell_type": "code",
   "execution_count": null,
   "metadata": {
    "scrolled": true
   },
   "outputs": [],
   "source": [
    "for i in range(len(total_tree_degree_list)):\n",
    "    \n",
    "    plt.figure()\n",
    "\n",
    "    nx.draw(total_tree_degree_list[i])\n",
    "    \n",
    "    plt.show()\n",
    "    \n",
    "    print('__________')"
   ]
  },
  {
   "cell_type": "code",
   "execution_count": null,
   "metadata": {
    "scrolled": true
   },
   "outputs": [],
   "source": [
    "# the smoothing of the above graphs\n",
    "for i in range(len(total_tree_degree_list)):\n",
    "    \n",
    "    plt.figure()\n",
    "    \n",
    "    nx.draw(smoothing(total_tree_degree_list[i]))\n",
    "    \n",
    "    plt.show()\n",
    "    \n",
    "    print('__________')"
   ]
  },
  {
   "cell_type": "markdown",
   "metadata": {},
   "source": [
    "### A Total Ordering on Trees of Order $n$ by Evaluating $\\log_{10}$ of Distinghising Polynomials at $x = 2$ and $y = 1$ and Sorting the Values"
   ]
  },
  {
   "cell_type": "code",
   "execution_count": null,
   "metadata": {},
   "outputs": [],
   "source": [
    "total_tree_evaluation_list = get_total_list_evaluation_based(Tree_List, 2, 1)"
   ]
  },
  {
   "cell_type": "code",
   "execution_count": null,
   "metadata": {
    "scrolled": true
   },
   "outputs": [],
   "source": [
    "for i in range(len(total_tree_evaluation_list)):\n",
    "    \n",
    "    plt.figure()\n",
    "\n",
    "    nx.draw(total_tree_evaluation_list[i][1])\n",
    "    \n",
    "    plt.show()\n",
    "    \n",
    "    print('__________')"
   ]
  },
  {
   "cell_type": "code",
   "execution_count": null,
   "metadata": {
    "scrolled": true
   },
   "outputs": [],
   "source": [
    "# distinguishing polynomials evaluated at x = 2 and y = 1 for\n",
    "# trees of order n and then sorted\n",
    "\n",
    "[total_tree_evaluation_list[i][0] for i in range(len(total_tree_evaluation_list))]"
   ]
  },
  {
   "cell_type": "code",
   "execution_count": null,
   "metadata": {},
   "outputs": [],
   "source": [
    "len([total_tree_evaluation_list[i][0] for i in range(len(total_tree_evaluation_list))]) - len(set([total_tree_evaluation_list[i][0] for i in range(len(total_tree_evaluation_list))]))"
   ]
  },
  {
   "cell_type": "code",
   "execution_count": null,
   "metadata": {
    "scrolled": true
   },
   "outputs": [],
   "source": [
    "for i in range(len(total_tree_evaluation_list)):\n",
    "    \n",
    "    plt.figure()\n",
    "    \n",
    "    nx.draw(smoothing(total_tree_evaluation_list[i][1]))\n",
    "    \n",
    "    plt.show()\n",
    "    \n",
    "    print('__________')"
   ]
  },
  {
   "cell_type": "markdown",
   "metadata": {},
   "source": [
    "### The Pairplot  for  the  Association  between  $\\log_{10}(P(T;2,1))$,  $\\text{radius}(T)$,  $\\text{diam}(T)$, $C_{\\text{deg}}(T)$, $C_{\\text{cls}}(T)$, $C_{\\text{btw}}(T)$, Number of Leaves, and $n-2$-nd Stirling Numbers of the First Kind for Trees $T$ of Order $n$"
   ]
  },
  {
   "cell_type": "code",
   "execution_count": null,
   "metadata": {},
   "outputs": [],
   "source": [
    "df = []\n",
    "\n",
    "for i in range(len(total_tree_evaluation_list)):\n",
    "    \n",
    "    x = total_tree_evaluation_list[i]\n",
    "        \n",
    "    df.append([np.log10(float(x[0])), nx.radius(x[1]), nx.diameter(x[1]),\n",
    "               get_degree_centrality(x[1]),\n",
    "               get_closeness_centrality(x[1]),\n",
    "               get_betweenness_centrality(x[1]),               \n",
    "               get_leaf_number(x[1]),\n",
    "               get_stirling_trees(x[1], n)[-3]])\n",
    "    \n",
    "df = pd.DataFrame(df, columns = ['Log_Dist', 'Rad', 'Diam', 'Deg_Cent', \n",
    "                                 'Cls_Cent', 'Btw_Cent', 'Leaf_Num', 'Stirling'])"
   ]
  },
  {
   "cell_type": "code",
   "execution_count": null,
   "metadata": {},
   "outputs": [],
   "source": [
    "df.head()"
   ]
  },
  {
   "cell_type": "code",
   "execution_count": null,
   "metadata": {},
   "outputs": [],
   "source": [
    "print(sns.pairplot(df, diag_kind = 'kde', corner = True))"
   ]
  },
  {
   "cell_type": "code",
   "execution_count": null,
   "metadata": {
    "scrolled": false
   },
   "outputs": [],
   "source": [
    "print(sns.pairplot(df, hue = 'Leaf_Num', diag_kind = 'hist', palette = 'magma', corner = True))"
   ]
  }
 ],
 "metadata": {
  "kernelspec": {
   "display_name": "Python 3 (ipykernel)",
   "language": "python",
   "name": "python3"
  },
  "language_info": {
   "codemirror_mode": {
    "name": "ipython",
    "version": 3
   },
   "file_extension": ".py",
   "mimetype": "text/x-python",
   "name": "python",
   "nbconvert_exporter": "python",
   "pygments_lexer": "ipython3",
   "version": "3.8.16"
  }
 },
 "nbformat": 4,
 "nbformat_minor": 4
}
