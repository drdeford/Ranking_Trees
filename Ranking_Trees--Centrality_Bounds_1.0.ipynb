{
 "cells": [
  {
   "cell_type": "code",
   "execution_count": null,
   "id": "80d14261",
   "metadata": {},
   "outputs": [],
   "source": [
    "# importing the libraries \n",
    "# make sure that tree_functions.py is in the same directory as this notebook\n",
    "\n",
    "from tree_functions_1 import *"
   ]
  },
  {
   "cell_type": "markdown",
   "id": "549c5ea9",
   "metadata": {},
   "source": [
    "## Path-to-Star and Star-to-Path Poset Structures"
   ]
  },
  {
   "cell_type": "code",
   "execution_count": null,
   "id": "47c8be7b",
   "metadata": {},
   "outputs": [],
   "source": [
    "# the order of the trees\n",
    "\n",
    "n = 11"
   ]
  },
  {
   "cell_type": "code",
   "execution_count": null,
   "id": "303831aa",
   "metadata": {},
   "outputs": [],
   "source": [
    "Tree_List = list(nx.nonisomorphic_trees(n))"
   ]
  },
  {
   "cell_type": "code",
   "execution_count": null,
   "id": "7dc62688",
   "metadata": {},
   "outputs": [],
   "source": [
    "Tree_List = list(nx.nonisomorphic_trees(n))\n",
    "\n",
    "path_po, tree_paths_p = get_poset_path_to_star(n)\n",
    "\n",
    "star_po, tree_paths_s = get_poset_star_to_path(n)"
   ]
  },
  {
   "cell_type": "markdown",
   "id": "dd65138a",
   "metadata": {},
   "source": [
    "### Visualizing the Path-to-Star and Star-to-Path Poset Structures"
   ]
  },
  {
   "cell_type": "code",
   "execution_count": null,
   "id": "41fb3b34",
   "metadata": {},
   "outputs": [],
   "source": [
    "nx.draw_kamada_kawai(path_po, node_size = 20, node_color = tree_paths_p, cmap = 'jet')"
   ]
  },
  {
   "cell_type": "code",
   "execution_count": null,
   "id": "f55628e9",
   "metadata": {},
   "outputs": [],
   "source": [
    "nx.draw_kamada_kawai(star_po, node_size = 20, node_color = tree_paths_s, cmap = 'jet')"
   ]
  },
  {
   "cell_type": "markdown",
   "id": "85a3bb5b",
   "metadata": {},
   "source": [
    "### Visualizing the Connection between Closeness Centrality and the $(n −2)$nd Stirling Number of the First Kind"
   ]
  },
  {
   "cell_type": "code",
   "execution_count": null,
   "id": "03fbf906",
   "metadata": {},
   "outputs": [],
   "source": [
    "# closeness centrality\n",
    "pos_clo = np.array([[get_stirling_trees(Tree_List[x], n)[-3],\n",
    "           get_closeness_centrality(Tree_List[x])] for x in range(len(Tree_List))])"
   ]
  },
  {
   "cell_type": "code",
   "execution_count": null,
   "id": "3605909d",
   "metadata": {},
   "outputs": [],
   "source": [
    "plt.scatter(pos_clo[:, 0], pos_clo[:,1], s = 5)\n",
    "\n",
    "plt.show()"
   ]
  },
  {
   "cell_type": "markdown",
   "id": "0aaa14d2",
   "metadata": {},
   "source": [
    "### Visualizing the Connection between Betweenness Centrality and the $(n −2)$nd Stirling Number of the First Kind"
   ]
  },
  {
   "cell_type": "code",
   "execution_count": null,
   "id": "6fb10e18",
   "metadata": {},
   "outputs": [],
   "source": [
    "# betweeness centrality\n",
    "pos_bet = np.array([[get_stirling_trees(Tree_List[x], n)[-3],\n",
    "           get_betweenness_centrality(Tree_List[x])] for x in range(len(Tree_List))])"
   ]
  },
  {
   "cell_type": "code",
   "execution_count": null,
   "id": "a25f3eb1",
   "metadata": {},
   "outputs": [],
   "source": [
    "plt.scatter(pos_bet[:, 0], pos_bet[:,1], s = 5)\n",
    "\n",
    "plt.show()"
   ]
  }
 ],
 "metadata": {
  "kernelspec": {
   "display_name": "Python 3 (ipykernel)",
   "language": "python",
   "name": "python3"
  },
  "language_info": {
   "codemirror_mode": {
    "name": "ipython",
    "version": 3
   },
   "file_extension": ".py",
   "mimetype": "text/x-python",
   "name": "python",
   "nbconvert_exporter": "python",
   "pygments_lexer": "ipython3",
   "version": "3.8.11"
  }
 },
 "nbformat": 4,
 "nbformat_minor": 5
}
