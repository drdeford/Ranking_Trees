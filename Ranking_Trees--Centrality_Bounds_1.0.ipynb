{
 "cells": [
  {
   "cell_type": "code",
   "execution_count": null,
   "id": "80d14261",
   "metadata": {},
   "outputs": [],
   "source": [
    "# importing the libraries \n",
    "# make sure that tree_functions.py is in the same directory as this notebook\n",
    "\n",
    "from tree_functions_1 import *"
   ]
  },
  {
   "cell_type": "markdown",
   "id": "549c5ea9",
   "metadata": {},
   "source": [
    "## Path-to-Star and Star-to-Path Poset Structures"
   ]
  },
  {
   "cell_type": "code",
   "execution_count": null,
   "id": "47c8be7b",
   "metadata": {},
   "outputs": [],
   "source": [
    "# the order of the trees\n",
    "\n",
    "n = 11"
   ]
  },
  {
   "cell_type": "code",
   "execution_count": null,
   "id": "7dc62688",
   "metadata": {},
   "outputs": [],
   "source": [
    "Tree_List = list(nx.nonisomorphic_trees(n))\n",
    "\n",
    "path_po, tree_paths_p = get_poset_path_to_star(n)\n",
    "\n",
    "star_po, tree_paths_s = get_poset_star_to_path(n)"
   ]
  },
  {
   "cell_type": "markdown",
   "id": "dd65138a",
   "metadata": {},
   "source": [
    "### Visualizing the Path-to-Star and Star-to-Path Poset Structures"
   ]
  },
  {
   "cell_type": "code",
   "execution_count": null,
   "id": "41fb3b34",
   "metadata": {},
   "outputs": [],
   "source": [
    "nx.draw_kamada_kawai(path_po, node_size = 20, node_color = tree_paths_p, cmap = 'jet')"
   ]
  },
  {
   "cell_type": "code",
   "execution_count": null,
   "id": "f55628e9",
   "metadata": {},
   "outputs": [],
   "source": [
    "nx.draw_kamada_kawai(star_po, node_size = 20, node_color = tree_paths_s, cmap = 'jet')"
   ]
  },
  {
   "cell_type": "markdown",
   "id": "85a3bb5b",
   "metadata": {},
   "source": [
    "### Visualizing the Path-to-Star and Star-to-Path Poset Structures Against Betweenness and Closeness Centralities "
   ]
  },
  {
   "cell_type": "code",
   "execution_count": null,
   "id": "03fbf906",
   "metadata": {},
   "outputs": [],
   "source": [
    "# closeness centrality\n",
    "pos_clo = {x: (get_stirling_trees(Tree_List[x], n)[-3],\n",
    "           get_closeness_centrality(Tree_List[x])) for x in star_po.nodes()} #-5\n",
    "\n",
    "# betweeness centrality\n",
    "pos_bet = {x: (get_stirling_trees(Tree_List[x],n)[-3],\n",
    "           get_betweenness_centrality(Tree_List[x])) for x in star_po.nodes()} #-5"
   ]
  },
  {
   "cell_type": "code",
   "execution_count": null,
   "id": "a3fb374e",
   "metadata": {},
   "outputs": [],
   "source": [
    "nx.draw(star_po, pos = pos_bet, node_size = 20, node_color = tree_paths_s, cmap = 'jet')"
   ]
  },
  {
   "cell_type": "code",
   "execution_count": null,
   "id": "f319f6a9",
   "metadata": {},
   "outputs": [],
   "source": [
    "nx.draw(path_po, pos = pos_bet, node_size = 20, node_color = tree_paths_p, cmap = 'jet')"
   ]
  },
  {
   "cell_type": "code",
   "execution_count": null,
   "id": "273bd18a",
   "metadata": {},
   "outputs": [],
   "source": [
    "nx.draw(star_po, pos = pos_clo, node_size = 20, node_color = tree_paths_s, cmap = 'jet')"
   ]
  },
  {
   "cell_type": "code",
   "execution_count": null,
   "id": "2c9b03c6",
   "metadata": {
    "scrolled": true
   },
   "outputs": [],
   "source": [
    "nx.draw(path_po, pos = pos_clo, node_size = 20, node_color = tree_paths_p, cmap = 'jet')"
   ]
  },
  {
   "cell_type": "code",
   "execution_count": null,
   "id": "a39c8d5a",
   "metadata": {},
   "outputs": [],
   "source": [
    "# visualizing the above plots for trees of order 7 to N\n",
    "\n",
    "N = 11"
   ]
  },
  {
   "cell_type": "code",
   "execution_count": null,
   "id": "332a09d9",
   "metadata": {
    "scrolled": false
   },
   "outputs": [],
   "source": [
    "for n in range(7, N + 1):\n",
    "    \n",
    "    Tree_List = list(nx.nonisomorphic_trees(n))\n",
    "    \n",
    "    path_po, tree_paths_p = get_poset_path_to_star(n)\n",
    "\n",
    "    star_po, tree_paths_s = get_poset_star_to_path(n)\n",
    "    \n",
    "    pos_clo = {x: (get_stirling_trees(Tree_List[x], n)[-3],\n",
    "           get_closeness_centrality(Tree_List[x])) for x in star_po.nodes()} #-5\n",
    "\n",
    "\n",
    "    pos_bet = {x: (get_stirling_trees(Tree_List[x],n)[-3],\n",
    "           get_betweenness_centrality(Tree_List[x])) for x in star_po.nodes()} #-5\n",
    "    \n",
    "    #plt.figure()\n",
    "    \n",
    "    #nx.draw_kamada_kawai(path_po, node_size = 20, node_color = tree_paths_p, cmap = 'jet')\n",
    "    \n",
    "    #plt.show()\n",
    "    \n",
    "    #plt.figure()\n",
    "\n",
    "    #nx.draw_kamada_kawai(star_po, node_size = 20, node_color = tree_paths_s, cmap = 'jet')\n",
    "    \n",
    "    #plt.show()\n",
    "    \n",
    "    plt.figure()\n",
    "    \n",
    "    nx.draw(star_po, pos = pos_bet, node_size = 20, node_color = tree_paths_s, cmap = 'jet')\n",
    "    \n",
    "    plt.show()\n",
    "\n",
    "    plt.figure()\n",
    "    \n",
    "    nx.draw(path_po, pos = pos_bet, node_size = 20, node_color = tree_paths_p, cmap = 'jet')\n",
    "    \n",
    "    plt.show()\n",
    "\n",
    "    plt.figure()\n",
    "    \n",
    "    nx.draw(star_po, pos = pos_clo, node_size = 20, node_color = tree_paths_s, cmap = 'jet')\n",
    "    \n",
    "    plt.show()\n",
    "\n",
    "    plt.figure()\n",
    "    \n",
    "    nx.draw(path_po, pos = pos_clo, node_size = 20, node_color = tree_paths_p, cmap = 'jet')\n",
    "    \n",
    "    plt.show()"
   ]
  }
 ],
 "metadata": {
  "kernelspec": {
   "display_name": "Python 3 (ipykernel)",
   "language": "python",
   "name": "python3"
  },
  "language_info": {
   "codemirror_mode": {
    "name": "ipython",
    "version": 3
   },
   "file_extension": ".py",
   "mimetype": "text/x-python",
   "name": "python",
   "nbconvert_exporter": "python",
   "pygments_lexer": "ipython3",
   "version": "3.8.11"
  }
 },
 "nbformat": 4,
 "nbformat_minor": 5
}
